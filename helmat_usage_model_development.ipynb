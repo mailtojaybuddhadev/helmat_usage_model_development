{
  "nbformat": 4,
  "nbformat_minor": 0,
  "metadata": {
    "colab": {
      "name": "helmat_usage_model_development.ipynb",
      "provenance": []
    },
    "kernelspec": {
      "display_name": "Python 3",
      "name": "python3"
    },
    "language_info": {
      "name": "python"
    }
  },
  "cells": [
    {
      "cell_type": "code",
      "metadata": {
        "id": "jGh5PpzcdJzW"
      },
      "source": [
        "import pandas as pd\n",
        "import numpy as np\n",
        "import matplotlib.pyplot as plt"
      ],
      "execution_count": 1,
      "outputs": []
    },
    {
      "cell_type": "code",
      "metadata": {
        "colab": {
          "base_uri": "https://localhost:8080/"
        },
        "id": "ay8Y5jJ1dNEU",
        "outputId": "b2eddd38-b4f5-46be-b718-dcae791e1a5b"
      },
      "source": [
        "import os\n",
        "from google.colab import drive \n",
        "drive.mount('/content/gdrive')"
      ],
      "execution_count": 2,
      "outputs": [
        {
          "output_type": "stream",
          "text": [
            "Mounted at /content/gdrive\n"
          ],
          "name": "stdout"
        }
      ]
    },
    {
      "cell_type": "code",
      "metadata": {
        "id": "OFBF1czfdXoi"
      },
      "source": [
        "os.chdir('/content/gdrive/My Drive/ghungroo')"
      ],
      "execution_count": 3,
      "outputs": []
    },
    {
      "cell_type": "code",
      "metadata": {
        "id": "qQKgV6EVdJzZ"
      },
      "source": [
        "data = pd.read_excel('BIGRS_Round_3_Helmet_Usage_Data (1) (1).xlsx')"
      ],
      "execution_count": 4,
      "outputs": []
    },
    {
      "cell_type": "code",
      "metadata": {
        "colab": {
          "base_uri": "https://localhost:8080/",
          "height": 240
        },
        "id": "R6XMh6PRAI24",
        "outputId": "4cec70fa-39de-401e-890d-b31449121d4f"
      },
      "source": [
        "data.head()"
      ],
      "execution_count": 5,
      "outputs": [
        {
          "output_type": "execute_result",
          "data": {
            "text/html": [
              "<div>\n",
              "<style scoped>\n",
              "    .dataframe tbody tr th:only-of-type {\n",
              "        vertical-align: middle;\n",
              "    }\n",
              "\n",
              "    .dataframe tbody tr th {\n",
              "        vertical-align: top;\n",
              "    }\n",
              "\n",
              "    .dataframe thead th {\n",
              "        text-align: right;\n",
              "    }\n",
              "</style>\n",
              "<table border=\"1\" class=\"dataframe\">\n",
              "  <thead>\n",
              "    <tr style=\"text-align: right;\">\n",
              "      <th></th>\n",
              "      <th>location</th>\n",
              "      <th>day</th>\n",
              "      <th>month</th>\n",
              "      <th>year</th>\n",
              "      <th>start_time</th>\n",
              "      <th>weather</th>\n",
              "      <th>weather.1</th>\n",
              "      <th>id</th>\n",
              "      <th>number_occupants</th>\n",
              "      <th>law_enforcement</th>\n",
              "      <th>driver_helmet</th>\n",
              "      <th>driver_helmet_type</th>\n",
              "      <th>driver_age_category</th>\n",
              "      <th>driver_sex</th>\n",
              "      <th>passenger_helmet_1</th>\n",
              "      <th>passenger_helmet_type_1</th>\n",
              "      <th>passenger_age_category_1</th>\n",
              "      <th>passenger_sex_1</th>\n",
              "      <th>passenger_helmet_2</th>\n",
              "      <th>passenger_helmet_type_2</th>\n",
              "      <th>passenger_age_category_2</th>\n",
              "      <th>passenger_sex_2</th>\n",
              "      <th>Unnamed: 22</th>\n",
              "      <th>Date</th>\n",
              "    </tr>\n",
              "  </thead>\n",
              "  <tbody>\n",
              "    <tr>\n",
              "      <th>0</th>\n",
              "      <td>Chembur</td>\n",
              "      <td>10</td>\n",
              "      <td>6</td>\n",
              "      <td>2016</td>\n",
              "      <td>07:30:00</td>\n",
              "      <td>1</td>\n",
              "      <td>999</td>\n",
              "      <td>1</td>\n",
              "      <td>1</td>\n",
              "      <td>1</td>\n",
              "      <td>1</td>\n",
              "      <td>1</td>\n",
              "      <td>1</td>\n",
              "      <td>1</td>\n",
              "      <td>999</td>\n",
              "      <td>999</td>\n",
              "      <td>999</td>\n",
              "      <td>999</td>\n",
              "      <td>999</td>\n",
              "      <td>999</td>\n",
              "      <td>999</td>\n",
              "      <td>999</td>\n",
              "      <td>NaN</td>\n",
              "      <td>10/6/2016</td>\n",
              "    </tr>\n",
              "    <tr>\n",
              "      <th>1</th>\n",
              "      <td>Chembur</td>\n",
              "      <td>10</td>\n",
              "      <td>6</td>\n",
              "      <td>2016</td>\n",
              "      <td>07:30:00</td>\n",
              "      <td>1</td>\n",
              "      <td>999</td>\n",
              "      <td>2</td>\n",
              "      <td>1</td>\n",
              "      <td>1</td>\n",
              "      <td>1</td>\n",
              "      <td>2</td>\n",
              "      <td>1</td>\n",
              "      <td>1</td>\n",
              "      <td>999</td>\n",
              "      <td>999</td>\n",
              "      <td>999</td>\n",
              "      <td>999</td>\n",
              "      <td>999</td>\n",
              "      <td>999</td>\n",
              "      <td>999</td>\n",
              "      <td>999</td>\n",
              "      <td>NaN</td>\n",
              "      <td>10/6/2016</td>\n",
              "    </tr>\n",
              "    <tr>\n",
              "      <th>2</th>\n",
              "      <td>Chembur</td>\n",
              "      <td>10</td>\n",
              "      <td>6</td>\n",
              "      <td>2016</td>\n",
              "      <td>07:30:00</td>\n",
              "      <td>1</td>\n",
              "      <td>999</td>\n",
              "      <td>3</td>\n",
              "      <td>1</td>\n",
              "      <td>1</td>\n",
              "      <td>1</td>\n",
              "      <td>2</td>\n",
              "      <td>1</td>\n",
              "      <td>1</td>\n",
              "      <td>999</td>\n",
              "      <td>999</td>\n",
              "      <td>999</td>\n",
              "      <td>999</td>\n",
              "      <td>999</td>\n",
              "      <td>999</td>\n",
              "      <td>999</td>\n",
              "      <td>999</td>\n",
              "      <td>NaN</td>\n",
              "      <td>10/6/2016</td>\n",
              "    </tr>\n",
              "    <tr>\n",
              "      <th>3</th>\n",
              "      <td>Chembur</td>\n",
              "      <td>10</td>\n",
              "      <td>6</td>\n",
              "      <td>2016</td>\n",
              "      <td>07:30:00</td>\n",
              "      <td>1</td>\n",
              "      <td>999</td>\n",
              "      <td>4</td>\n",
              "      <td>1</td>\n",
              "      <td>1</td>\n",
              "      <td>0</td>\n",
              "      <td>0</td>\n",
              "      <td>1</td>\n",
              "      <td>1</td>\n",
              "      <td>999</td>\n",
              "      <td>999</td>\n",
              "      <td>999</td>\n",
              "      <td>999</td>\n",
              "      <td>999</td>\n",
              "      <td>999</td>\n",
              "      <td>999</td>\n",
              "      <td>999</td>\n",
              "      <td>NaN</td>\n",
              "      <td>10/6/2016</td>\n",
              "    </tr>\n",
              "    <tr>\n",
              "      <th>4</th>\n",
              "      <td>Chembur</td>\n",
              "      <td>10</td>\n",
              "      <td>6</td>\n",
              "      <td>2016</td>\n",
              "      <td>07:30:00</td>\n",
              "      <td>1</td>\n",
              "      <td>999</td>\n",
              "      <td>5</td>\n",
              "      <td>1</td>\n",
              "      <td>1</td>\n",
              "      <td>1</td>\n",
              "      <td>2</td>\n",
              "      <td>1</td>\n",
              "      <td>1</td>\n",
              "      <td>999</td>\n",
              "      <td>999</td>\n",
              "      <td>999</td>\n",
              "      <td>999</td>\n",
              "      <td>999</td>\n",
              "      <td>999</td>\n",
              "      <td>999</td>\n",
              "      <td>999</td>\n",
              "      <td>NaN</td>\n",
              "      <td>10/6/2016</td>\n",
              "    </tr>\n",
              "  </tbody>\n",
              "</table>\n",
              "</div>"
            ],
            "text/plain": [
              "  location  day  month  ...  passenger_sex_2 Unnamed: 22       Date\n",
              "0  Chembur   10      6  ...              999         NaN  10/6/2016\n",
              "1  Chembur   10      6  ...              999         NaN  10/6/2016\n",
              "2  Chembur   10      6  ...              999         NaN  10/6/2016\n",
              "3  Chembur   10      6  ...              999         NaN  10/6/2016\n",
              "4  Chembur   10      6  ...              999         NaN  10/6/2016\n",
              "\n",
              "[5 rows x 24 columns]"
            ]
          },
          "metadata": {
            "tags": []
          },
          "execution_count": 5
        }
      ]
    },
    {
      "cell_type": "code",
      "metadata": {
        "colab": {
          "base_uri": "https://localhost:8080/"
        },
        "id": "elD3K3u6dJzb",
        "outputId": "2bbbefe8-316f-489b-d08b-b19dab2bd581"
      },
      "source": [
        "data.columns"
      ],
      "execution_count": 6,
      "outputs": [
        {
          "output_type": "execute_result",
          "data": {
            "text/plain": [
              "Index(['location', 'day', 'month', 'year', 'start_time', 'weather',\n",
              "       'weather.1', 'id', 'number_occupants', 'law_enforcement',\n",
              "       'driver_helmet', 'driver_helmet_type', 'driver_age_category',\n",
              "       'driver_sex', 'passenger_helmet_1', 'passenger_helmet_type_1',\n",
              "       'passenger_age_category_1', 'passenger_sex_1', 'passenger_helmet_2',\n",
              "       'passenger_helmet_type_2', 'passenger_age_category_2',\n",
              "       'passenger_sex_2', 'Unnamed: 22', 'Date'],\n",
              "      dtype='object')"
            ]
          },
          "metadata": {
            "tags": []
          },
          "execution_count": 6
        }
      ]
    },
    {
      "cell_type": "code",
      "metadata": {
        "id": "8uEvYkQfdJzc"
      },
      "source": [
        "x_data = data[['Date','location','start_time','number_occupants','law_enforcement',\n",
        "        'driver_helmet_type', 'driver_age_category',\n",
        "       'driver_sex','driver_helmet']]"
      ],
      "execution_count": 7,
      "outputs": []
    },
    {
      "cell_type": "code",
      "metadata": {
        "id": "chLEs4Wv_45F"
      },
      "source": [
        ""
      ],
      "execution_count": 7,
      "outputs": []
    },
    {
      "cell_type": "code",
      "metadata": {
        "colab": {
          "base_uri": "https://localhost:8080/",
          "height": 203
        },
        "id": "NE3kXmjBdJzc",
        "outputId": "afa8e94e-de23-4d7d-bb25-d055c66ff838"
      },
      "source": [
        "x_data.head()"
      ],
      "execution_count": 8,
      "outputs": [
        {
          "output_type": "execute_result",
          "data": {
            "text/html": [
              "<div>\n",
              "<style scoped>\n",
              "    .dataframe tbody tr th:only-of-type {\n",
              "        vertical-align: middle;\n",
              "    }\n",
              "\n",
              "    .dataframe tbody tr th {\n",
              "        vertical-align: top;\n",
              "    }\n",
              "\n",
              "    .dataframe thead th {\n",
              "        text-align: right;\n",
              "    }\n",
              "</style>\n",
              "<table border=\"1\" class=\"dataframe\">\n",
              "  <thead>\n",
              "    <tr style=\"text-align: right;\">\n",
              "      <th></th>\n",
              "      <th>Date</th>\n",
              "      <th>location</th>\n",
              "      <th>start_time</th>\n",
              "      <th>number_occupants</th>\n",
              "      <th>law_enforcement</th>\n",
              "      <th>driver_helmet_type</th>\n",
              "      <th>driver_age_category</th>\n",
              "      <th>driver_sex</th>\n",
              "      <th>driver_helmet</th>\n",
              "    </tr>\n",
              "  </thead>\n",
              "  <tbody>\n",
              "    <tr>\n",
              "      <th>0</th>\n",
              "      <td>10/6/2016</td>\n",
              "      <td>Chembur</td>\n",
              "      <td>07:30:00</td>\n",
              "      <td>1</td>\n",
              "      <td>1</td>\n",
              "      <td>1</td>\n",
              "      <td>1</td>\n",
              "      <td>1</td>\n",
              "      <td>1</td>\n",
              "    </tr>\n",
              "    <tr>\n",
              "      <th>1</th>\n",
              "      <td>10/6/2016</td>\n",
              "      <td>Chembur</td>\n",
              "      <td>07:30:00</td>\n",
              "      <td>1</td>\n",
              "      <td>1</td>\n",
              "      <td>2</td>\n",
              "      <td>1</td>\n",
              "      <td>1</td>\n",
              "      <td>1</td>\n",
              "    </tr>\n",
              "    <tr>\n",
              "      <th>2</th>\n",
              "      <td>10/6/2016</td>\n",
              "      <td>Chembur</td>\n",
              "      <td>07:30:00</td>\n",
              "      <td>1</td>\n",
              "      <td>1</td>\n",
              "      <td>2</td>\n",
              "      <td>1</td>\n",
              "      <td>1</td>\n",
              "      <td>1</td>\n",
              "    </tr>\n",
              "    <tr>\n",
              "      <th>3</th>\n",
              "      <td>10/6/2016</td>\n",
              "      <td>Chembur</td>\n",
              "      <td>07:30:00</td>\n",
              "      <td>1</td>\n",
              "      <td>1</td>\n",
              "      <td>0</td>\n",
              "      <td>1</td>\n",
              "      <td>1</td>\n",
              "      <td>0</td>\n",
              "    </tr>\n",
              "    <tr>\n",
              "      <th>4</th>\n",
              "      <td>10/6/2016</td>\n",
              "      <td>Chembur</td>\n",
              "      <td>07:30:00</td>\n",
              "      <td>1</td>\n",
              "      <td>1</td>\n",
              "      <td>2</td>\n",
              "      <td>1</td>\n",
              "      <td>1</td>\n",
              "      <td>1</td>\n",
              "    </tr>\n",
              "  </tbody>\n",
              "</table>\n",
              "</div>"
            ],
            "text/plain": [
              "        Date location  ... driver_sex  driver_helmet\n",
              "0  10/6/2016  Chembur  ...          1              1\n",
              "1  10/6/2016  Chembur  ...          1              1\n",
              "2  10/6/2016  Chembur  ...          1              1\n",
              "3  10/6/2016  Chembur  ...          1              0\n",
              "4  10/6/2016  Chembur  ...          1              1\n",
              "\n",
              "[5 rows x 9 columns]"
            ]
          },
          "metadata": {
            "tags": []
          },
          "execution_count": 8
        }
      ]
    },
    {
      "cell_type": "code",
      "metadata": {
        "colab": {
          "base_uri": "https://localhost:8080/"
        },
        "id": "hidl9-AydJzc",
        "outputId": "60ef32b5-501e-4fbd-f220-4d8132341e2d"
      },
      "source": [
        "x_data.info()"
      ],
      "execution_count": 9,
      "outputs": [
        {
          "output_type": "stream",
          "text": [
            "<class 'pandas.core.frame.DataFrame'>\n",
            "RangeIndex: 218944 entries, 0 to 218943\n",
            "Data columns (total 9 columns):\n",
            " #   Column               Non-Null Count   Dtype \n",
            "---  ------               --------------   ----- \n",
            " 0   Date                 218944 non-null  object\n",
            " 1   location             218944 non-null  object\n",
            " 2   start_time           218944 non-null  object\n",
            " 3   number_occupants     218944 non-null  int64 \n",
            " 4   law_enforcement      218944 non-null  int64 \n",
            " 5   driver_helmet_type   218939 non-null  object\n",
            " 6   driver_age_category  218944 non-null  int64 \n",
            " 7   driver_sex           218944 non-null  int64 \n",
            " 8   driver_helmet        218944 non-null  int64 \n",
            "dtypes: int64(5), object(4)\n",
            "memory usage: 15.0+ MB\n"
          ],
          "name": "stdout"
        }
      ]
    },
    {
      "cell_type": "code",
      "metadata": {
        "colab": {
          "base_uri": "https://localhost:8080/"
        },
        "id": "S8ACNSibdJzd",
        "outputId": "3164e558-187d-4c6e-bfca-85699c71f1e3"
      },
      "source": [
        "x_data.isnull().sum()"
      ],
      "execution_count": 10,
      "outputs": [
        {
          "output_type": "execute_result",
          "data": {
            "text/plain": [
              "Date                   0\n",
              "location               0\n",
              "start_time             0\n",
              "number_occupants       0\n",
              "law_enforcement        0\n",
              "driver_helmet_type     5\n",
              "driver_age_category    0\n",
              "driver_sex             0\n",
              "driver_helmet          0\n",
              "dtype: int64"
            ]
          },
          "metadata": {
            "tags": []
          },
          "execution_count": 10
        }
      ]
    },
    {
      "cell_type": "code",
      "metadata": {
        "id": "W0oc7YAadJzd"
      },
      "source": [
        "x_data = x_data.dropna()"
      ],
      "execution_count": 11,
      "outputs": []
    },
    {
      "cell_type": "code",
      "metadata": {
        "colab": {
          "base_uri": "https://localhost:8080/"
        },
        "id": "gXMTYw-FdJzd",
        "outputId": "ed70280e-1432-43f7-8cb3-e8488e0f79e5"
      },
      "source": [
        "x_data.isnull().sum()"
      ],
      "execution_count": 12,
      "outputs": [
        {
          "output_type": "execute_result",
          "data": {
            "text/plain": [
              "Date                   0\n",
              "location               0\n",
              "start_time             0\n",
              "number_occupants       0\n",
              "law_enforcement        0\n",
              "driver_helmet_type     0\n",
              "driver_age_category    0\n",
              "driver_sex             0\n",
              "driver_helmet          0\n",
              "dtype: int64"
            ]
          },
          "metadata": {
            "tags": []
          },
          "execution_count": 12
        }
      ]
    },
    {
      "cell_type": "code",
      "metadata": {
        "colab": {
          "base_uri": "https://localhost:8080/"
        },
        "id": "cl1u0WJidJze",
        "outputId": "58356c30-d7a1-44b7-ad76-f1acdfa5cd24"
      },
      "source": [
        "x_data.info()"
      ],
      "execution_count": 13,
      "outputs": [
        {
          "output_type": "stream",
          "text": [
            "<class 'pandas.core.frame.DataFrame'>\n",
            "Int64Index: 218939 entries, 0 to 218943\n",
            "Data columns (total 9 columns):\n",
            " #   Column               Non-Null Count   Dtype \n",
            "---  ------               --------------   ----- \n",
            " 0   Date                 218939 non-null  object\n",
            " 1   location             218939 non-null  object\n",
            " 2   start_time           218939 non-null  object\n",
            " 3   number_occupants     218939 non-null  int64 \n",
            " 4   law_enforcement      218939 non-null  int64 \n",
            " 5   driver_helmet_type   218939 non-null  object\n",
            " 6   driver_age_category  218939 non-null  int64 \n",
            " 7   driver_sex           218939 non-null  int64 \n",
            " 8   driver_helmet        218939 non-null  int64 \n",
            "dtypes: int64(5), object(4)\n",
            "memory usage: 16.7+ MB\n"
          ],
          "name": "stdout"
        }
      ]
    },
    {
      "cell_type": "code",
      "metadata": {
        "colab": {
          "base_uri": "https://localhost:8080/",
          "height": 203
        },
        "id": "3T01eMC9dJzf",
        "outputId": "9f7622ca-db1d-403c-e724-54b1fbab51f9"
      },
      "source": [
        "x_data.head()"
      ],
      "execution_count": 14,
      "outputs": [
        {
          "output_type": "execute_result",
          "data": {
            "text/html": [
              "<div>\n",
              "<style scoped>\n",
              "    .dataframe tbody tr th:only-of-type {\n",
              "        vertical-align: middle;\n",
              "    }\n",
              "\n",
              "    .dataframe tbody tr th {\n",
              "        vertical-align: top;\n",
              "    }\n",
              "\n",
              "    .dataframe thead th {\n",
              "        text-align: right;\n",
              "    }\n",
              "</style>\n",
              "<table border=\"1\" class=\"dataframe\">\n",
              "  <thead>\n",
              "    <tr style=\"text-align: right;\">\n",
              "      <th></th>\n",
              "      <th>Date</th>\n",
              "      <th>location</th>\n",
              "      <th>start_time</th>\n",
              "      <th>number_occupants</th>\n",
              "      <th>law_enforcement</th>\n",
              "      <th>driver_helmet_type</th>\n",
              "      <th>driver_age_category</th>\n",
              "      <th>driver_sex</th>\n",
              "      <th>driver_helmet</th>\n",
              "    </tr>\n",
              "  </thead>\n",
              "  <tbody>\n",
              "    <tr>\n",
              "      <th>0</th>\n",
              "      <td>10/6/2016</td>\n",
              "      <td>Chembur</td>\n",
              "      <td>07:30:00</td>\n",
              "      <td>1</td>\n",
              "      <td>1</td>\n",
              "      <td>1</td>\n",
              "      <td>1</td>\n",
              "      <td>1</td>\n",
              "      <td>1</td>\n",
              "    </tr>\n",
              "    <tr>\n",
              "      <th>1</th>\n",
              "      <td>10/6/2016</td>\n",
              "      <td>Chembur</td>\n",
              "      <td>07:30:00</td>\n",
              "      <td>1</td>\n",
              "      <td>1</td>\n",
              "      <td>2</td>\n",
              "      <td>1</td>\n",
              "      <td>1</td>\n",
              "      <td>1</td>\n",
              "    </tr>\n",
              "    <tr>\n",
              "      <th>2</th>\n",
              "      <td>10/6/2016</td>\n",
              "      <td>Chembur</td>\n",
              "      <td>07:30:00</td>\n",
              "      <td>1</td>\n",
              "      <td>1</td>\n",
              "      <td>2</td>\n",
              "      <td>1</td>\n",
              "      <td>1</td>\n",
              "      <td>1</td>\n",
              "    </tr>\n",
              "    <tr>\n",
              "      <th>3</th>\n",
              "      <td>10/6/2016</td>\n",
              "      <td>Chembur</td>\n",
              "      <td>07:30:00</td>\n",
              "      <td>1</td>\n",
              "      <td>1</td>\n",
              "      <td>0</td>\n",
              "      <td>1</td>\n",
              "      <td>1</td>\n",
              "      <td>0</td>\n",
              "    </tr>\n",
              "    <tr>\n",
              "      <th>4</th>\n",
              "      <td>10/6/2016</td>\n",
              "      <td>Chembur</td>\n",
              "      <td>07:30:00</td>\n",
              "      <td>1</td>\n",
              "      <td>1</td>\n",
              "      <td>2</td>\n",
              "      <td>1</td>\n",
              "      <td>1</td>\n",
              "      <td>1</td>\n",
              "    </tr>\n",
              "  </tbody>\n",
              "</table>\n",
              "</div>"
            ],
            "text/plain": [
              "        Date location  ... driver_sex  driver_helmet\n",
              "0  10/6/2016  Chembur  ...          1              1\n",
              "1  10/6/2016  Chembur  ...          1              1\n",
              "2  10/6/2016  Chembur  ...          1              1\n",
              "3  10/6/2016  Chembur  ...          1              0\n",
              "4  10/6/2016  Chembur  ...          1              1\n",
              "\n",
              "[5 rows x 9 columns]"
            ]
          },
          "metadata": {
            "tags": []
          },
          "execution_count": 14
        }
      ]
    },
    {
      "cell_type": "code",
      "metadata": {
        "id": "zpz_qyRUdJzf"
      },
      "source": [
        "x_data.Date = pd.to_datetime(x_data.Date)\n",
        "x_data.set_index('Date',inplace=True)"
      ],
      "execution_count": 15,
      "outputs": []
    },
    {
      "cell_type": "code",
      "metadata": {
        "id": "PGMy-2MOdJzg"
      },
      "source": [
        "x_data['weekday'] = x_data.index.dayofweek"
      ],
      "execution_count": 16,
      "outputs": []
    },
    {
      "cell_type": "code",
      "metadata": {
        "colab": {
          "base_uri": "https://localhost:8080/"
        },
        "id": "CKQmb7QydJzg",
        "outputId": "bbb5a072-89f8-4f1b-9e02-96f25426e2f9"
      },
      "source": [
        "(x_data['weekday']==6).sum()"
      ],
      "execution_count": 17,
      "outputs": [
        {
          "output_type": "execute_result",
          "data": {
            "text/plain": [
              "24574"
            ]
          },
          "metadata": {
            "tags": []
          },
          "execution_count": 17
        }
      ]
    },
    {
      "cell_type": "code",
      "metadata": {
        "colab": {
          "base_uri": "https://localhost:8080/"
        },
        "id": "6osqUeAMdJzh",
        "outputId": "24d9cf5d-4e21-4b00-a712-d4d4be0311ba"
      },
      "source": [
        "(x_data['weekday']==5).sum()"
      ],
      "execution_count": 18,
      "outputs": [
        {
          "output_type": "execute_result",
          "data": {
            "text/plain": [
              "39411"
            ]
          },
          "metadata": {
            "tags": []
          },
          "execution_count": 18
        }
      ]
    },
    {
      "cell_type": "code",
      "metadata": {
        "colab": {
          "base_uri": "https://localhost:8080/"
        },
        "id": "5GML_v2kdJzh",
        "outputId": "148da1d7-cad4-4cd3-c9d7-f7893fc5e00a"
      },
      "source": [
        "(x_data['weekday']==1).sum()"
      ],
      "execution_count": 19,
      "outputs": [
        {
          "output_type": "execute_result",
          "data": {
            "text/plain": [
              "26595"
            ]
          },
          "metadata": {
            "tags": []
          },
          "execution_count": 19
        }
      ]
    },
    {
      "cell_type": "code",
      "metadata": {
        "colab": {
          "base_uri": "https://localhost:8080/"
        },
        "id": "LXeG8bIaA9ly",
        "outputId": "ad4848b4-c426-4bc0-9ffd-77e972810369"
      },
      "source": [
        "x_data.shape"
      ],
      "execution_count": 20,
      "outputs": [
        {
          "output_type": "execute_result",
          "data": {
            "text/plain": [
              "(218939, 9)"
            ]
          },
          "metadata": {
            "tags": []
          },
          "execution_count": 20
        }
      ]
    },
    {
      "cell_type": "code",
      "metadata": {
        "id": "TiWRnEvWdJzi"
      },
      "source": [
        "x_data= x_data[x_data['driver_helmet_type'] != 999]"
      ],
      "execution_count": 21,
      "outputs": []
    },
    {
      "cell_type": "code",
      "metadata": {
        "colab": {
          "base_uri": "https://localhost:8080/"
        },
        "id": "Aueu-j4mA2_x",
        "outputId": "ec4d1305-2b9a-49b8-a080-89fd12c8d685"
      },
      "source": [
        "x_data.shape"
      ],
      "execution_count": 22,
      "outputs": [
        {
          "output_type": "execute_result",
          "data": {
            "text/plain": [
              "(218841, 9)"
            ]
          },
          "metadata": {
            "tags": []
          },
          "execution_count": 22
        }
      ]
    },
    {
      "cell_type": "code",
      "metadata": {
        "colab": {
          "base_uri": "https://localhost:8080/"
        },
        "id": "RLmypNbzdJzi",
        "outputId": "64feeec6-3f53-45e5-8f91-92e9d6cdfd72"
      },
      "source": [
        "for i in x_data.columns:\n",
        "    print(i,x_data[i].unique())"
      ],
      "execution_count": 23,
      "outputs": [
        {
          "output_type": "stream",
          "text": [
            "location ['Chembur' 'Vikhroli' 'JVLR Powai' 'Malad East' 'CST' 'Matunga'\n",
            " 'Worli west' 'Vile Parle West' 'Borivali west' 'Marine Lines'\n",
            " ' Marine Lines']\n",
            "start_time [datetime.time(7, 30) datetime.time(10, 0) datetime.time(12, 30)\n",
            " datetime.time(15, 0) datetime.time(17, 30)]\n",
            "number_occupants [1 2 3 4 5 0 6]\n",
            "law_enforcement [1 0 2]\n",
            "driver_helmet_type [1 2 0 ' ']\n",
            "driver_age_category [1 0]\n",
            "driver_sex [1 0]\n",
            "driver_helmet [  1   0   2 999]\n",
            "weekday [3 1 0 6 2 5 4]\n"
          ],
          "name": "stdout"
        }
      ]
    },
    {
      "cell_type": "code",
      "metadata": {
        "id": "XHMVQYcIdJzi"
      },
      "source": [
        "x_data= x_data[x_data['driver_helmet'] != 999]"
      ],
      "execution_count": 24,
      "outputs": []
    },
    {
      "cell_type": "code",
      "metadata": {
        "colab": {
          "base_uri": "https://localhost:8080/"
        },
        "id": "lx8lHfWwBCBF",
        "outputId": "c6b4832d-5374-4cc3-eb71-09f4e0ac14c6"
      },
      "source": [
        "x_data.shape"
      ],
      "execution_count": 25,
      "outputs": [
        {
          "output_type": "execute_result",
          "data": {
            "text/plain": [
              "(218840, 9)"
            ]
          },
          "metadata": {
            "tags": []
          },
          "execution_count": 25
        }
      ]
    },
    {
      "cell_type": "code",
      "metadata": {
        "colab": {
          "base_uri": "https://localhost:8080/"
        },
        "id": "5jSI9qAmdJzj",
        "outputId": "5b74ed99-4dea-4cc4-9baf-401300b25367"
      },
      "source": [
        "(x_data['weekday'] < 5).sum()"
      ],
      "execution_count": 26,
      "outputs": [
        {
          "output_type": "execute_result",
          "data": {
            "text/plain": [
              "154877"
            ]
          },
          "metadata": {
            "tags": []
          },
          "execution_count": 26
        }
      ]
    },
    {
      "cell_type": "code",
      "metadata": {
        "id": "aIK5YhqYdJzj"
      },
      "source": [
        "x_data['weekday'].where(~(x_data['weekday']<5),other=0,inplace=True)"
      ],
      "execution_count": 27,
      "outputs": []
    },
    {
      "cell_type": "code",
      "metadata": {
        "colab": {
          "base_uri": "https://localhost:8080/"
        },
        "id": "oRg2MQuTdJzj",
        "outputId": "9bc13f25-ba1d-42a2-db5a-dbdb408a463c"
      },
      "source": [
        "(x_data['weekday']==0).sum()"
      ],
      "execution_count": 28,
      "outputs": [
        {
          "output_type": "execute_result",
          "data": {
            "text/plain": [
              "154877"
            ]
          },
          "metadata": {
            "tags": []
          },
          "execution_count": 28
        }
      ]
    },
    {
      "cell_type": "code",
      "metadata": {
        "id": "a0ECo7YtdJzj"
      },
      "source": [
        "x_data['weekday'].where(~(x_data['weekday']>= 5),other=1,inplace=True)"
      ],
      "execution_count": 29,
      "outputs": []
    },
    {
      "cell_type": "code",
      "metadata": {
        "colab": {
          "base_uri": "https://localhost:8080/"
        },
        "id": "Ko7rY6FNdJzj",
        "outputId": "dcba43bc-df69-4fb5-a795-28ac98b01d9f"
      },
      "source": [
        "(x_data['weekday']==1).sum()"
      ],
      "execution_count": 30,
      "outputs": [
        {
          "output_type": "execute_result",
          "data": {
            "text/plain": [
              "63963"
            ]
          },
          "metadata": {
            "tags": []
          },
          "execution_count": 30
        }
      ]
    },
    {
      "cell_type": "code",
      "metadata": {
        "id": "Ia3GPArxdJzk"
      },
      "source": [
        "x_data['location']=x_data['location'].replace(' marine line','marine line')"
      ],
      "execution_count": 31,
      "outputs": []
    },
    {
      "cell_type": "code",
      "metadata": {
        "colab": {
          "base_uri": "https://localhost:8080/"
        },
        "id": "eBvIWhu8dJzk",
        "outputId": "423a5237-540e-47f4-982f-3146e798988e"
      },
      "source": [
        "x_data['location'].unique()"
      ],
      "execution_count": 32,
      "outputs": [
        {
          "output_type": "execute_result",
          "data": {
            "text/plain": [
              "array(['Chembur', 'Vikhroli', 'JVLR Powai', 'Malad East', 'CST',\n",
              "       'Matunga', 'Worli west', 'Vile Parle West', 'Borivali west',\n",
              "       'Marine Lines', ' Marine Lines'], dtype=object)"
            ]
          },
          "metadata": {
            "tags": []
          },
          "execution_count": 32
        }
      ]
    },
    {
      "cell_type": "code",
      "metadata": {
        "id": "CeLQOLXTdJzk"
      },
      "source": [
        "from sklearn import preprocessing\n",
        "le = preprocessing.LabelEncoder()"
      ],
      "execution_count": 33,
      "outputs": []
    },
    {
      "cell_type": "code",
      "metadata": {
        "id": "mNJ00IcadJzk"
      },
      "source": [
        "x_data['location'] = le.fit_transform(x_data['location'])"
      ],
      "execution_count": 34,
      "outputs": []
    },
    {
      "cell_type": "code",
      "metadata": {
        "colab": {
          "base_uri": "https://localhost:8080/"
        },
        "id": "x2tKZI6wdJzk",
        "outputId": "837269f2-8e01-42b1-e649-064c4c27f5a5"
      },
      "source": [
        "print(le.classes_)"
      ],
      "execution_count": 35,
      "outputs": [
        {
          "output_type": "stream",
          "text": [
            "[' Marine Lines' 'Borivali west' 'CST' 'Chembur' 'JVLR Powai' 'Malad East'\n",
            " 'Marine Lines' 'Matunga' 'Vikhroli' 'Vile Parle West' 'Worli west']\n"
          ],
          "name": "stdout"
        }
      ]
    },
    {
      "cell_type": "code",
      "metadata": {
        "colab": {
          "base_uri": "https://localhost:8080/"
        },
        "id": "BpKR3jUVdJzl",
        "outputId": "9016d826-7fd2-4030-f91d-c6eac025cff9"
      },
      "source": [
        "print(len(le.classes_))"
      ],
      "execution_count": 36,
      "outputs": [
        {
          "output_type": "stream",
          "text": [
            "11\n"
          ],
          "name": "stdout"
        }
      ]
    },
    {
      "cell_type": "code",
      "metadata": {
        "id": "Sh26bsWddJzl"
      },
      "source": [
        "x_data['start_time'] = le.fit_transform(x_data['start_time'].astype(str))"
      ],
      "execution_count": 37,
      "outputs": []
    },
    {
      "cell_type": "code",
      "metadata": {
        "colab": {
          "base_uri": "https://localhost:8080/"
        },
        "id": "ohyXU-d_dJzl",
        "outputId": "515997c7-de4d-47fe-e697-0eb61ca52e46"
      },
      "source": [
        "print(le.classes_)"
      ],
      "execution_count": 38,
      "outputs": [
        {
          "output_type": "stream",
          "text": [
            "['07:30:00' '10:00:00' '12:30:00' '15:00:00' '17:30:00']\n"
          ],
          "name": "stdout"
        }
      ]
    },
    {
      "cell_type": "code",
      "metadata": {
        "colab": {
          "base_uri": "https://localhost:8080/"
        },
        "id": "T94MtuARdJzl",
        "outputId": "088f483f-ebd9-4ba7-f181-7c3350ebb1ad"
      },
      "source": [
        "print(len(le.classes_))"
      ],
      "execution_count": 39,
      "outputs": [
        {
          "output_type": "stream",
          "text": [
            "5\n"
          ],
          "name": "stdout"
        }
      ]
    },
    {
      "cell_type": "code",
      "metadata": {
        "colab": {
          "base_uri": "https://localhost:8080/",
          "height": 447
        },
        "id": "fGc6RvrTdJzl",
        "outputId": "1528a3bd-9488-4844-c906-8de046cb5b40"
      },
      "source": [
        "x_data"
      ],
      "execution_count": 40,
      "outputs": [
        {
          "output_type": "execute_result",
          "data": {
            "text/html": [
              "<div>\n",
              "<style scoped>\n",
              "    .dataframe tbody tr th:only-of-type {\n",
              "        vertical-align: middle;\n",
              "    }\n",
              "\n",
              "    .dataframe tbody tr th {\n",
              "        vertical-align: top;\n",
              "    }\n",
              "\n",
              "    .dataframe thead th {\n",
              "        text-align: right;\n",
              "    }\n",
              "</style>\n",
              "<table border=\"1\" class=\"dataframe\">\n",
              "  <thead>\n",
              "    <tr style=\"text-align: right;\">\n",
              "      <th></th>\n",
              "      <th>location</th>\n",
              "      <th>start_time</th>\n",
              "      <th>number_occupants</th>\n",
              "      <th>law_enforcement</th>\n",
              "      <th>driver_helmet_type</th>\n",
              "      <th>driver_age_category</th>\n",
              "      <th>driver_sex</th>\n",
              "      <th>driver_helmet</th>\n",
              "      <th>weekday</th>\n",
              "    </tr>\n",
              "    <tr>\n",
              "      <th>Date</th>\n",
              "      <th></th>\n",
              "      <th></th>\n",
              "      <th></th>\n",
              "      <th></th>\n",
              "      <th></th>\n",
              "      <th></th>\n",
              "      <th></th>\n",
              "      <th></th>\n",
              "      <th></th>\n",
              "    </tr>\n",
              "  </thead>\n",
              "  <tbody>\n",
              "    <tr>\n",
              "      <th>2016-10-06</th>\n",
              "      <td>3</td>\n",
              "      <td>0</td>\n",
              "      <td>1</td>\n",
              "      <td>1</td>\n",
              "      <td>1</td>\n",
              "      <td>1</td>\n",
              "      <td>1</td>\n",
              "      <td>1</td>\n",
              "      <td>0</td>\n",
              "    </tr>\n",
              "    <tr>\n",
              "      <th>2016-10-06</th>\n",
              "      <td>3</td>\n",
              "      <td>0</td>\n",
              "      <td>1</td>\n",
              "      <td>1</td>\n",
              "      <td>2</td>\n",
              "      <td>1</td>\n",
              "      <td>1</td>\n",
              "      <td>1</td>\n",
              "      <td>0</td>\n",
              "    </tr>\n",
              "    <tr>\n",
              "      <th>2016-10-06</th>\n",
              "      <td>3</td>\n",
              "      <td>0</td>\n",
              "      <td>1</td>\n",
              "      <td>1</td>\n",
              "      <td>2</td>\n",
              "      <td>1</td>\n",
              "      <td>1</td>\n",
              "      <td>1</td>\n",
              "      <td>0</td>\n",
              "    </tr>\n",
              "    <tr>\n",
              "      <th>2016-10-06</th>\n",
              "      <td>3</td>\n",
              "      <td>0</td>\n",
              "      <td>1</td>\n",
              "      <td>1</td>\n",
              "      <td>0</td>\n",
              "      <td>1</td>\n",
              "      <td>1</td>\n",
              "      <td>0</td>\n",
              "      <td>0</td>\n",
              "    </tr>\n",
              "    <tr>\n",
              "      <th>2016-10-06</th>\n",
              "      <td>3</td>\n",
              "      <td>0</td>\n",
              "      <td>1</td>\n",
              "      <td>1</td>\n",
              "      <td>2</td>\n",
              "      <td>1</td>\n",
              "      <td>1</td>\n",
              "      <td>1</td>\n",
              "      <td>0</td>\n",
              "    </tr>\n",
              "    <tr>\n",
              "      <th>...</th>\n",
              "      <td>...</td>\n",
              "      <td>...</td>\n",
              "      <td>...</td>\n",
              "      <td>...</td>\n",
              "      <td>...</td>\n",
              "      <td>...</td>\n",
              "      <td>...</td>\n",
              "      <td>...</td>\n",
              "      <td>...</td>\n",
              "    </tr>\n",
              "    <tr>\n",
              "      <th>2018-09-24</th>\n",
              "      <td>2</td>\n",
              "      <td>4</td>\n",
              "      <td>2</td>\n",
              "      <td>0</td>\n",
              "      <td>0</td>\n",
              "      <td>1</td>\n",
              "      <td>1</td>\n",
              "      <td>0</td>\n",
              "      <td>0</td>\n",
              "    </tr>\n",
              "    <tr>\n",
              "      <th>2018-09-24</th>\n",
              "      <td>2</td>\n",
              "      <td>4</td>\n",
              "      <td>1</td>\n",
              "      <td>0</td>\n",
              "      <td>1</td>\n",
              "      <td>1</td>\n",
              "      <td>1</td>\n",
              "      <td>1</td>\n",
              "      <td>0</td>\n",
              "    </tr>\n",
              "    <tr>\n",
              "      <th>2018-09-24</th>\n",
              "      <td>2</td>\n",
              "      <td>4</td>\n",
              "      <td>1</td>\n",
              "      <td>0</td>\n",
              "      <td>2</td>\n",
              "      <td>1</td>\n",
              "      <td>1</td>\n",
              "      <td>2</td>\n",
              "      <td>0</td>\n",
              "    </tr>\n",
              "    <tr>\n",
              "      <th>2018-09-24</th>\n",
              "      <td>2</td>\n",
              "      <td>4</td>\n",
              "      <td>1</td>\n",
              "      <td>0</td>\n",
              "      <td>1</td>\n",
              "      <td>1</td>\n",
              "      <td>1</td>\n",
              "      <td>2</td>\n",
              "      <td>0</td>\n",
              "    </tr>\n",
              "    <tr>\n",
              "      <th>2018-09-24</th>\n",
              "      <td>2</td>\n",
              "      <td>4</td>\n",
              "      <td>1</td>\n",
              "      <td>0</td>\n",
              "      <td>1</td>\n",
              "      <td>1</td>\n",
              "      <td>1</td>\n",
              "      <td>2</td>\n",
              "      <td>0</td>\n",
              "    </tr>\n",
              "  </tbody>\n",
              "</table>\n",
              "<p>218840 rows × 9 columns</p>\n",
              "</div>"
            ],
            "text/plain": [
              "            location  start_time  ...  driver_helmet  weekday\n",
              "Date                              ...                        \n",
              "2016-10-06         3           0  ...              1        0\n",
              "2016-10-06         3           0  ...              1        0\n",
              "2016-10-06         3           0  ...              1        0\n",
              "2016-10-06         3           0  ...              0        0\n",
              "2016-10-06         3           0  ...              1        0\n",
              "...              ...         ...  ...            ...      ...\n",
              "2018-09-24         2           4  ...              0        0\n",
              "2018-09-24         2           4  ...              1        0\n",
              "2018-09-24         2           4  ...              2        0\n",
              "2018-09-24         2           4  ...              2        0\n",
              "2018-09-24         2           4  ...              2        0\n",
              "\n",
              "[218840 rows x 9 columns]"
            ]
          },
          "metadata": {
            "tags": []
          },
          "execution_count": 40
        }
      ]
    },
    {
      "cell_type": "code",
      "metadata": {
        "colab": {
          "base_uri": "https://localhost:8080/"
        },
        "id": "Apbeb-madJzl",
        "outputId": "7abd4944-cb74-46e5-956d-e88d5067ae33"
      },
      "source": [
        "x_data.shape"
      ],
      "execution_count": 41,
      "outputs": [
        {
          "output_type": "execute_result",
          "data": {
            "text/plain": [
              "(218840, 9)"
            ]
          },
          "metadata": {
            "tags": []
          },
          "execution_count": 41
        }
      ]
    },
    {
      "cell_type": "code",
      "metadata": {
        "id": "avOlPJFOdJzm"
      },
      "source": [
        "x_data.reset_index(drop=True,inplace=True)"
      ],
      "execution_count": 42,
      "outputs": []
    },
    {
      "cell_type": "code",
      "metadata": {
        "colab": {
          "base_uri": "https://localhost:8080/",
          "height": 417
        },
        "id": "4-oKgURJdJzm",
        "outputId": "9a06aa02-1b21-459b-b751-9714317af77f"
      },
      "source": [
        "x_data"
      ],
      "execution_count": 43,
      "outputs": [
        {
          "output_type": "execute_result",
          "data": {
            "text/html": [
              "<div>\n",
              "<style scoped>\n",
              "    .dataframe tbody tr th:only-of-type {\n",
              "        vertical-align: middle;\n",
              "    }\n",
              "\n",
              "    .dataframe tbody tr th {\n",
              "        vertical-align: top;\n",
              "    }\n",
              "\n",
              "    .dataframe thead th {\n",
              "        text-align: right;\n",
              "    }\n",
              "</style>\n",
              "<table border=\"1\" class=\"dataframe\">\n",
              "  <thead>\n",
              "    <tr style=\"text-align: right;\">\n",
              "      <th></th>\n",
              "      <th>location</th>\n",
              "      <th>start_time</th>\n",
              "      <th>number_occupants</th>\n",
              "      <th>law_enforcement</th>\n",
              "      <th>driver_helmet_type</th>\n",
              "      <th>driver_age_category</th>\n",
              "      <th>driver_sex</th>\n",
              "      <th>driver_helmet</th>\n",
              "      <th>weekday</th>\n",
              "    </tr>\n",
              "  </thead>\n",
              "  <tbody>\n",
              "    <tr>\n",
              "      <th>0</th>\n",
              "      <td>3</td>\n",
              "      <td>0</td>\n",
              "      <td>1</td>\n",
              "      <td>1</td>\n",
              "      <td>1</td>\n",
              "      <td>1</td>\n",
              "      <td>1</td>\n",
              "      <td>1</td>\n",
              "      <td>0</td>\n",
              "    </tr>\n",
              "    <tr>\n",
              "      <th>1</th>\n",
              "      <td>3</td>\n",
              "      <td>0</td>\n",
              "      <td>1</td>\n",
              "      <td>1</td>\n",
              "      <td>2</td>\n",
              "      <td>1</td>\n",
              "      <td>1</td>\n",
              "      <td>1</td>\n",
              "      <td>0</td>\n",
              "    </tr>\n",
              "    <tr>\n",
              "      <th>2</th>\n",
              "      <td>3</td>\n",
              "      <td>0</td>\n",
              "      <td>1</td>\n",
              "      <td>1</td>\n",
              "      <td>2</td>\n",
              "      <td>1</td>\n",
              "      <td>1</td>\n",
              "      <td>1</td>\n",
              "      <td>0</td>\n",
              "    </tr>\n",
              "    <tr>\n",
              "      <th>3</th>\n",
              "      <td>3</td>\n",
              "      <td>0</td>\n",
              "      <td>1</td>\n",
              "      <td>1</td>\n",
              "      <td>0</td>\n",
              "      <td>1</td>\n",
              "      <td>1</td>\n",
              "      <td>0</td>\n",
              "      <td>0</td>\n",
              "    </tr>\n",
              "    <tr>\n",
              "      <th>4</th>\n",
              "      <td>3</td>\n",
              "      <td>0</td>\n",
              "      <td>1</td>\n",
              "      <td>1</td>\n",
              "      <td>2</td>\n",
              "      <td>1</td>\n",
              "      <td>1</td>\n",
              "      <td>1</td>\n",
              "      <td>0</td>\n",
              "    </tr>\n",
              "    <tr>\n",
              "      <th>...</th>\n",
              "      <td>...</td>\n",
              "      <td>...</td>\n",
              "      <td>...</td>\n",
              "      <td>...</td>\n",
              "      <td>...</td>\n",
              "      <td>...</td>\n",
              "      <td>...</td>\n",
              "      <td>...</td>\n",
              "      <td>...</td>\n",
              "    </tr>\n",
              "    <tr>\n",
              "      <th>218835</th>\n",
              "      <td>2</td>\n",
              "      <td>4</td>\n",
              "      <td>2</td>\n",
              "      <td>0</td>\n",
              "      <td>0</td>\n",
              "      <td>1</td>\n",
              "      <td>1</td>\n",
              "      <td>0</td>\n",
              "      <td>0</td>\n",
              "    </tr>\n",
              "    <tr>\n",
              "      <th>218836</th>\n",
              "      <td>2</td>\n",
              "      <td>4</td>\n",
              "      <td>1</td>\n",
              "      <td>0</td>\n",
              "      <td>1</td>\n",
              "      <td>1</td>\n",
              "      <td>1</td>\n",
              "      <td>1</td>\n",
              "      <td>0</td>\n",
              "    </tr>\n",
              "    <tr>\n",
              "      <th>218837</th>\n",
              "      <td>2</td>\n",
              "      <td>4</td>\n",
              "      <td>1</td>\n",
              "      <td>0</td>\n",
              "      <td>2</td>\n",
              "      <td>1</td>\n",
              "      <td>1</td>\n",
              "      <td>2</td>\n",
              "      <td>0</td>\n",
              "    </tr>\n",
              "    <tr>\n",
              "      <th>218838</th>\n",
              "      <td>2</td>\n",
              "      <td>4</td>\n",
              "      <td>1</td>\n",
              "      <td>0</td>\n",
              "      <td>1</td>\n",
              "      <td>1</td>\n",
              "      <td>1</td>\n",
              "      <td>2</td>\n",
              "      <td>0</td>\n",
              "    </tr>\n",
              "    <tr>\n",
              "      <th>218839</th>\n",
              "      <td>2</td>\n",
              "      <td>4</td>\n",
              "      <td>1</td>\n",
              "      <td>0</td>\n",
              "      <td>1</td>\n",
              "      <td>1</td>\n",
              "      <td>1</td>\n",
              "      <td>2</td>\n",
              "      <td>0</td>\n",
              "    </tr>\n",
              "  </tbody>\n",
              "</table>\n",
              "<p>218840 rows × 9 columns</p>\n",
              "</div>"
            ],
            "text/plain": [
              "        location  start_time  ...  driver_helmet  weekday\n",
              "0              3           0  ...              1        0\n",
              "1              3           0  ...              1        0\n",
              "2              3           0  ...              1        0\n",
              "3              3           0  ...              0        0\n",
              "4              3           0  ...              1        0\n",
              "...          ...         ...  ...            ...      ...\n",
              "218835         2           4  ...              0        0\n",
              "218836         2           4  ...              1        0\n",
              "218837         2           4  ...              2        0\n",
              "218838         2           4  ...              2        0\n",
              "218839         2           4  ...              2        0\n",
              "\n",
              "[218840 rows x 9 columns]"
            ]
          },
          "metadata": {
            "tags": []
          },
          "execution_count": 43
        }
      ]
    },
    {
      "cell_type": "code",
      "metadata": {
        "id": "lTqqfe1zdJzm"
      },
      "source": [
        "x_data = x_data[x_data['driver_helmet_type'] != ' ']"
      ],
      "execution_count": 44,
      "outputs": []
    },
    {
      "cell_type": "code",
      "metadata": {
        "colab": {
          "base_uri": "https://localhost:8080/"
        },
        "id": "F7xOpEmPdJzm",
        "outputId": "879183c8-f0cd-4a81-a62e-6bd6e5a8cfd9"
      },
      "source": [
        "x_data.shape"
      ],
      "execution_count": 45,
      "outputs": [
        {
          "output_type": "execute_result",
          "data": {
            "text/plain": [
              "(218839, 9)"
            ]
          },
          "metadata": {
            "tags": []
          },
          "execution_count": 45
        }
      ]
    },
    {
      "cell_type": "code",
      "metadata": {
        "colab": {
          "base_uri": "https://localhost:8080/"
        },
        "id": "hRoxxOQUdJzm",
        "outputId": "c4785375-5467-40be-871e-fdd54393bfb8"
      },
      "source": [
        "x_data['driver_helmet_type']=pd.to_numeric(x_data['driver_helmet_type'])"
      ],
      "execution_count": 46,
      "outputs": [
        {
          "output_type": "stream",
          "text": [
            "/usr/local/lib/python3.7/dist-packages/ipykernel_launcher.py:1: SettingWithCopyWarning: \n",
            "A value is trying to be set on a copy of a slice from a DataFrame.\n",
            "Try using .loc[row_indexer,col_indexer] = value instead\n",
            "\n",
            "See the caveats in the documentation: https://pandas.pydata.org/pandas-docs/stable/user_guide/indexing.html#returning-a-view-versus-a-copy\n",
            "  \"\"\"Entry point for launching an IPython kernel.\n"
          ],
          "name": "stderr"
        }
      ]
    },
    {
      "cell_type": "code",
      "metadata": {
        "colab": {
          "base_uri": "https://localhost:8080/"
        },
        "id": "zHPtS-rwdJzn",
        "outputId": "5d485752-6413-4dfe-f457-8812316d4580"
      },
      "source": [
        "x_data['driver_helmet_type']=x_data['driver_helmet_type'].astype(float)"
      ],
      "execution_count": 47,
      "outputs": [
        {
          "output_type": "stream",
          "text": [
            "/usr/local/lib/python3.7/dist-packages/ipykernel_launcher.py:1: SettingWithCopyWarning: \n",
            "A value is trying to be set on a copy of a slice from a DataFrame.\n",
            "Try using .loc[row_indexer,col_indexer] = value instead\n",
            "\n",
            "See the caveats in the documentation: https://pandas.pydata.org/pandas-docs/stable/user_guide/indexing.html#returning-a-view-versus-a-copy\n",
            "  \"\"\"Entry point for launching an IPython kernel.\n"
          ],
          "name": "stderr"
        }
      ]
    },
    {
      "cell_type": "code",
      "metadata": {
        "id": "RW6vEl8JMTfj"
      },
      "source": [
        ""
      ],
      "execution_count": 47,
      "outputs": []
    },
    {
      "cell_type": "code",
      "metadata": {
        "id": "hOSP1cUzdJzn"
      },
      "source": [
        "y_data = x_data['driver_helmet']"
      ],
      "execution_count": 48,
      "outputs": []
    },
    {
      "cell_type": "code",
      "metadata": {
        "colab": {
          "base_uri": "https://localhost:8080/"
        },
        "id": "Uum95Bly6-UK",
        "outputId": "9054182f-437a-4d43-fe8c-4d541239739f"
      },
      "source": [
        "y_data.shape"
      ],
      "execution_count": 49,
      "outputs": [
        {
          "output_type": "execute_result",
          "data": {
            "text/plain": [
              "(218839,)"
            ]
          },
          "metadata": {
            "tags": []
          },
          "execution_count": 49
        }
      ]
    },
    {
      "cell_type": "code",
      "metadata": {
        "colab": {
          "base_uri": "https://localhost:8080/"
        },
        "id": "4OGZ34Wy6a8I",
        "outputId": "60238a56-8489-4342-b731-cf7769f86f63"
      },
      "source": [
        "(y_data[y_data==0]).shape"
      ],
      "execution_count": 50,
      "outputs": [
        {
          "output_type": "execute_result",
          "data": {
            "text/plain": [
              "(21382,)"
            ]
          },
          "metadata": {
            "tags": []
          },
          "execution_count": 50
        }
      ]
    },
    {
      "cell_type": "code",
      "metadata": {
        "colab": {
          "base_uri": "https://localhost:8080/"
        },
        "id": "XaBpwNV47CeL",
        "outputId": "ee193f18-2501-4cfe-f225-0865d77b73fe"
      },
      "source": [
        "(y_data[y_data==1]).shape"
      ],
      "execution_count": 51,
      "outputs": [
        {
          "output_type": "execute_result",
          "data": {
            "text/plain": [
              "(99633,)"
            ]
          },
          "metadata": {
            "tags": []
          },
          "execution_count": 51
        }
      ]
    },
    {
      "cell_type": "code",
      "metadata": {
        "colab": {
          "base_uri": "https://localhost:8080/"
        },
        "id": "_gryzYwN7KPC",
        "outputId": "5a507072-a491-4135-ddef-d0a7476327d3"
      },
      "source": [
        "(y_data[y_data==2]).shape"
      ],
      "execution_count": 52,
      "outputs": [
        {
          "output_type": "execute_result",
          "data": {
            "text/plain": [
              "(97824,)"
            ]
          },
          "metadata": {
            "tags": []
          },
          "execution_count": 52
        }
      ]
    },
    {
      "cell_type": "code",
      "metadata": {
        "id": "ZjHtYSj8dJzn"
      },
      "source": [
        "x_data = x_data.drop(['driver_helmet'],axis=1)"
      ],
      "execution_count": 53,
      "outputs": []
    },
    {
      "cell_type": "code",
      "metadata": {
        "id": "rj9Qqq91dJzr"
      },
      "source": [
        "from sklearn.ensemble import RandomForestClassifier"
      ],
      "execution_count": 54,
      "outputs": []
    },
    {
      "cell_type": "code",
      "metadata": {
        "id": "OQ-Vhoy6MrGT"
      },
      "source": [
        "x_data = x_data.drop(['weekday'],axis=1)"
      ],
      "execution_count": 55,
      "outputs": []
    },
    {
      "cell_type": "code",
      "metadata": {
        "id": "0YwKWG1-Qgnf"
      },
      "source": [
        "x_data = x_data.drop(['driver_age_category'],axis=1)"
      ],
      "execution_count": 56,
      "outputs": []
    },
    {
      "cell_type": "code",
      "metadata": {
        "id": "NZTz6DwfQtqE"
      },
      "source": [
        "#x_data = x_data.drop(['driver_helmet_type'],axis=1)"
      ],
      "execution_count": 57,
      "outputs": []
    },
    {
      "cell_type": "code",
      "metadata": {
        "colab": {
          "base_uri": "https://localhost:8080/",
          "height": 417
        },
        "id": "6JluYApdQ8rL",
        "outputId": "517eafe9-2e8e-4fe2-e1e9-a4877db1e5e6"
      },
      "source": [
        "x_data"
      ],
      "execution_count": 58,
      "outputs": [
        {
          "output_type": "execute_result",
          "data": {
            "text/html": [
              "<div>\n",
              "<style scoped>\n",
              "    .dataframe tbody tr th:only-of-type {\n",
              "        vertical-align: middle;\n",
              "    }\n",
              "\n",
              "    .dataframe tbody tr th {\n",
              "        vertical-align: top;\n",
              "    }\n",
              "\n",
              "    .dataframe thead th {\n",
              "        text-align: right;\n",
              "    }\n",
              "</style>\n",
              "<table border=\"1\" class=\"dataframe\">\n",
              "  <thead>\n",
              "    <tr style=\"text-align: right;\">\n",
              "      <th></th>\n",
              "      <th>location</th>\n",
              "      <th>start_time</th>\n",
              "      <th>number_occupants</th>\n",
              "      <th>law_enforcement</th>\n",
              "      <th>driver_helmet_type</th>\n",
              "      <th>driver_sex</th>\n",
              "    </tr>\n",
              "  </thead>\n",
              "  <tbody>\n",
              "    <tr>\n",
              "      <th>0</th>\n",
              "      <td>3</td>\n",
              "      <td>0</td>\n",
              "      <td>1</td>\n",
              "      <td>1</td>\n",
              "      <td>1.0</td>\n",
              "      <td>1</td>\n",
              "    </tr>\n",
              "    <tr>\n",
              "      <th>1</th>\n",
              "      <td>3</td>\n",
              "      <td>0</td>\n",
              "      <td>1</td>\n",
              "      <td>1</td>\n",
              "      <td>2.0</td>\n",
              "      <td>1</td>\n",
              "    </tr>\n",
              "    <tr>\n",
              "      <th>2</th>\n",
              "      <td>3</td>\n",
              "      <td>0</td>\n",
              "      <td>1</td>\n",
              "      <td>1</td>\n",
              "      <td>2.0</td>\n",
              "      <td>1</td>\n",
              "    </tr>\n",
              "    <tr>\n",
              "      <th>3</th>\n",
              "      <td>3</td>\n",
              "      <td>0</td>\n",
              "      <td>1</td>\n",
              "      <td>1</td>\n",
              "      <td>0.0</td>\n",
              "      <td>1</td>\n",
              "    </tr>\n",
              "    <tr>\n",
              "      <th>4</th>\n",
              "      <td>3</td>\n",
              "      <td>0</td>\n",
              "      <td>1</td>\n",
              "      <td>1</td>\n",
              "      <td>2.0</td>\n",
              "      <td>1</td>\n",
              "    </tr>\n",
              "    <tr>\n",
              "      <th>...</th>\n",
              "      <td>...</td>\n",
              "      <td>...</td>\n",
              "      <td>...</td>\n",
              "      <td>...</td>\n",
              "      <td>...</td>\n",
              "      <td>...</td>\n",
              "    </tr>\n",
              "    <tr>\n",
              "      <th>218835</th>\n",
              "      <td>2</td>\n",
              "      <td>4</td>\n",
              "      <td>2</td>\n",
              "      <td>0</td>\n",
              "      <td>0.0</td>\n",
              "      <td>1</td>\n",
              "    </tr>\n",
              "    <tr>\n",
              "      <th>218836</th>\n",
              "      <td>2</td>\n",
              "      <td>4</td>\n",
              "      <td>1</td>\n",
              "      <td>0</td>\n",
              "      <td>1.0</td>\n",
              "      <td>1</td>\n",
              "    </tr>\n",
              "    <tr>\n",
              "      <th>218837</th>\n",
              "      <td>2</td>\n",
              "      <td>4</td>\n",
              "      <td>1</td>\n",
              "      <td>0</td>\n",
              "      <td>2.0</td>\n",
              "      <td>1</td>\n",
              "    </tr>\n",
              "    <tr>\n",
              "      <th>218838</th>\n",
              "      <td>2</td>\n",
              "      <td>4</td>\n",
              "      <td>1</td>\n",
              "      <td>0</td>\n",
              "      <td>1.0</td>\n",
              "      <td>1</td>\n",
              "    </tr>\n",
              "    <tr>\n",
              "      <th>218839</th>\n",
              "      <td>2</td>\n",
              "      <td>4</td>\n",
              "      <td>1</td>\n",
              "      <td>0</td>\n",
              "      <td>1.0</td>\n",
              "      <td>1</td>\n",
              "    </tr>\n",
              "  </tbody>\n",
              "</table>\n",
              "<p>218839 rows × 6 columns</p>\n",
              "</div>"
            ],
            "text/plain": [
              "        location  start_time  ...  driver_helmet_type  driver_sex\n",
              "0              3           0  ...                 1.0           1\n",
              "1              3           0  ...                 2.0           1\n",
              "2              3           0  ...                 2.0           1\n",
              "3              3           0  ...                 0.0           1\n",
              "4              3           0  ...                 2.0           1\n",
              "...          ...         ...  ...                 ...         ...\n",
              "218835         2           4  ...                 0.0           1\n",
              "218836         2           4  ...                 1.0           1\n",
              "218837         2           4  ...                 2.0           1\n",
              "218838         2           4  ...                 1.0           1\n",
              "218839         2           4  ...                 1.0           1\n",
              "\n",
              "[218839 rows x 6 columns]"
            ]
          },
          "metadata": {
            "tags": []
          },
          "execution_count": 58
        }
      ]
    },
    {
      "cell_type": "code",
      "metadata": {
        "id": "SXZsKxdIDWxS"
      },
      "source": [
        "from sklearn.model_selection import train_test_split\n",
        "x_train,x_test,y_train,y_test=train_test_split(x_data,y_data,test_size=0.20)"
      ],
      "execution_count": 62,
      "outputs": []
    },
    {
      "cell_type": "code",
      "metadata": {
        "colab": {
          "base_uri": "https://localhost:8080/"
        },
        "id": "80d3FfY8dJzr",
        "outputId": "438101d2-e557-4590-a4de-b02d13413126"
      },
      "source": [
        "rf_mdl = RandomForestClassifier(oob_score=True)\n",
        "rf_mdl.fit(x_train,y_train)"
      ],
      "execution_count": 63,
      "outputs": [
        {
          "output_type": "execute_result",
          "data": {
            "text/plain": [
              "RandomForestClassifier(bootstrap=True, ccp_alpha=0.0, class_weight=None,\n",
              "                       criterion='gini', max_depth=None, max_features='auto',\n",
              "                       max_leaf_nodes=None, max_samples=None,\n",
              "                       min_impurity_decrease=0.0, min_impurity_split=None,\n",
              "                       min_samples_leaf=1, min_samples_split=2,\n",
              "                       min_weight_fraction_leaf=0.0, n_estimators=100,\n",
              "                       n_jobs=None, oob_score=True, random_state=None,\n",
              "                       verbose=0, warm_start=False)"
            ]
          },
          "metadata": {
            "tags": []
          },
          "execution_count": 63
        }
      ]
    },
    {
      "cell_type": "code",
      "metadata": {
        "colab": {
          "base_uri": "https://localhost:8080/"
        },
        "id": "-dB1skINdJzr",
        "outputId": "a3481787-ed7f-49d0-8fcf-919fe9c2f057"
      },
      "source": [
        "rf_mdl.oob_score_"
      ],
      "execution_count": 64,
      "outputs": [
        {
          "output_type": "execute_result",
          "data": {
            "text/plain": [
              "0.6276482112971309"
            ]
          },
          "metadata": {
            "tags": []
          },
          "execution_count": 64
        }
      ]
    },
    {
      "cell_type": "code",
      "metadata": {
        "id": "Lx87cvzODhDK"
      },
      "source": [
        "y_pred = rf_mdl.predict(x_test)"
      ],
      "execution_count": 66,
      "outputs": []
    },
    {
      "cell_type": "code",
      "metadata": {
        "id": "vd6SzcvqdJzs",
        "scrolled": true
      },
      "source": [
        "impp=[]\n",
        "feat = []\n",
        "for feature,imp in zip(x_data.columns,rf_mdl.feature_importances_):\n",
        "    feat.append(feature)\n",
        "    impp.append(imp*100)\n",
        "impp.remove(impp[4])\n",
        "feat.remove('driver_helmet_type')"
      ],
      "execution_count": 74,
      "outputs": []
    },
    {
      "cell_type": "code",
      "metadata": {
        "colab": {
          "base_uri": "https://localhost:8080/",
          "height": 282
        },
        "id": "2SLR1jfHLXKE",
        "outputId": "73a7f41f-f713-4a86-8543-a11382d1f6dd"
      },
      "source": [
        "plt.barh(feat,impp)"
      ],
      "execution_count": 75,
      "outputs": [
        {
          "output_type": "execute_result",
          "data": {
            "text/plain": [
              "<BarContainer object of 5 artists>"
            ]
          },
          "metadata": {
            "tags": []
          },
          "execution_count": 75
        },
        {
          "output_type": "display_data",
          "data": {
            "image/png": "[encoded data removed]",
            "text/plain": [
              "<Figure size 432x288 with 1 Axes>"
            ]
          },
          "metadata": {
            "tags": [],
            "needs_background": "light"
          }
        }
      ]
    },
    {
      "cell_type": "code",
      "metadata": {
        "colab": {
          "base_uri": "https://localhost:8080/",
          "height": 284
        },
        "id": "T83oARzZDFoh",
        "outputId": "884e27ef-63ca-4b13-d56b-2182652f132f"
      },
      "source": [
        "from sklearn.metrics import classification_report,confusion_matrix\n",
        "cm=confusion_matrix(y_test,y_pred)\n",
        "import seaborn as sns\n",
        "sns.heatmap(cm,annot=True)"
      ],
      "execution_count": 76,
      "outputs": [
        {
          "output_type": "execute_result",
          "data": {
            "text/plain": [
              "<matplotlib.axes._subplots.AxesSubplot at 0x7f6c18d061d0>"
            ]
          },
          "metadata": {
            "tags": []
          },
          "execution_count": 76
        },
        {
          "output_type": "display_data",
          "data": {
            "image/png": "[encoded data removed]",
            "text/plain": [
              "<Figure size 432x288 with 2 Axes>"
            ]
          },
          "metadata": {
            "tags": [],
            "needs_background": "light"
          }
        }
      ]
    },
    {
      "cell_type": "code",
      "metadata": {
        "colab": {
          "base_uri": "https://localhost:8080/"
        },
        "id": "RWu55h9YDpjJ",
        "outputId": "be279d0e-0c91-4265-e427-f6476c8a0373"
      },
      "source": [
        "print(classification_report(y_test,y_pred,target_names=['class0','class1','class2']))"
      ],
      "execution_count": 77,
      "outputs": [
        {
          "output_type": "stream",
          "text": [
            "              precision    recall  f1-score   support\n",
            "\n",
            "      class0       0.80      0.94      0.87      4253\n",
            "      class1       0.62      0.57      0.59     20033\n",
            "      class2       0.59      0.62      0.61     19482\n",
            "\n",
            "    accuracy                           0.63     43768\n",
            "   macro avg       0.67      0.71      0.69     43768\n",
            "weighted avg       0.62      0.63      0.62     43768\n",
            "\n"
          ],
          "name": "stdout"
        }
      ]
    },
    {
      "cell_type": "code",
      "metadata": {
        "id": "40fFYtOWFDJq"
      },
      "source": [
        ""
      ],
      "execution_count": null,
      "outputs": []
    }
  ]
}